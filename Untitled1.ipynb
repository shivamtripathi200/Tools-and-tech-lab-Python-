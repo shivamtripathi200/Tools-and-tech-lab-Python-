{
 "cells": [
  {
   "cell_type": "code",
   "execution_count": 1,
   "id": "adae05fe",
   "metadata": {},
   "outputs": [
    {
     "name": "stdout",
     "output_type": "stream",
     "text": [
      "cube of 5= 125\n"
     ]
    }
   ],
   "source": [
    "def cube(x):\n",
    "    return x**3\n",
    "print('cube of 5=',cube(5))"
   ]
  },
  {
   "cell_type": "code",
   "execution_count": 3,
   "id": "077ab693",
   "metadata": {},
   "outputs": [
    {
     "name": "stdout",
     "output_type": "stream",
     "text": [
      "3-5= -1\n",
      "4-3= 1\n"
     ]
    }
   ],
   "source": [
    "def subtract(a, b):\n",
    "    return a-b\n",
    "print('3-5=',subtract(3,4))\n",
    "print('4-3=',subtract(b=3,a=4))"
   ]
  },
  {
   "cell_type": "code",
   "execution_count": 11,
   "id": "d3b43019",
   "metadata": {},
   "outputs": [],
   "source": [
    "def sign(x):\n",
    "    if x<0:\n",
    "        print(x, 'is negetive')\n",
    "    elif x==0:\n",
    "        print(x,'is zero')\n",
    "    else:\n",
    "        print(x, 'is positive')\n",
    "        print('checkpoint 1')\n",
    "    print('checkpoint 2')\n",
    "        "
   ]
  },
  {
   "cell_type": "code",
   "execution_count": 12,
   "id": "e12198d3",
   "metadata": {},
   "outputs": [
    {
     "name": "stdout",
     "output_type": "stream",
     "text": [
      "-6 is negetive\n",
      "checkpoint 2\n",
      "6 is positive\n",
      "checkpoint 1\n",
      "checkpoint 2\n",
      "0 is zero\n",
      "checkpoint 2\n"
     ]
    }
   ],
   "source": [
    "sign(-6)\n",
    "sign(6)\n",
    "sign(0)"
   ]
  },
  {
   "cell_type": "code",
   "execution_count": 22,
   "id": "35757659",
   "metadata": {},
   "outputs": [
    {
     "name": "stdout",
     "output_type": "stream",
     "text": [
      "1\n",
      "2\n",
      "3\n",
      "4\n",
      "5\n",
      "\n",
      "\n",
      "0\n",
      "1\n",
      "2\n",
      "3\n",
      "4\n"
     ]
    }
   ],
   "source": [
    "def count(n):\n",
    "    for i in range(1,n+1):\n",
    "        print(i)\n",
    "    print('\\n')\n",
    "    for i in range(n):\n",
    "        print(i)\n",
    "    \n",
    "count(5)"
   ]
  },
  {
   "cell_type": "code",
   "execution_count": 21,
   "id": "4015f538",
   "metadata": {},
   "outputs": [
    {
     "name": "stdout",
     "output_type": "stream",
     "text": [
      "3628800\n"
     ]
    }
   ],
   "source": [
    "def factorial(n):\n",
    "    ans = 1\n",
    "    for i in range(2,n+1):\n",
    "        ans = ans*i\n",
    "    return ans\n",
    "print(factorial(10))\n"
   ]
  },
  {
   "cell_type": "code",
   "execution_count": 23,
   "id": "a1747b2a",
   "metadata": {},
   "outputs": [
    {
     "name": "stdout",
     "output_type": "stream",
     "text": [
      "1\n",
      "2\n",
      "3\n",
      "4\n",
      "5\n"
     ]
    }
   ],
   "source": [
    "p = 1\n",
    "while p<=5:\n",
    "    print(p)\n",
    "    p+=1"
   ]
  },
  {
   "cell_type": "code",
   "execution_count": null,
   "id": "0ee79a91",
   "metadata": {},
   "outputs": [],
   "source": []
  }
 ],
 "metadata": {
  "kernelspec": {
   "display_name": "Python 3 (ipykernel)",
   "language": "python",
   "name": "python3"
  },
  "language_info": {
   "codemirror_mode": {
    "name": "ipython",
    "version": 3
   },
   "file_extension": ".py",
   "mimetype": "text/x-python",
   "name": "python",
   "nbconvert_exporter": "python",
   "pygments_lexer": "ipython3",
   "version": "3.11.5"
  }
 },
 "nbformat": 4,
 "nbformat_minor": 5
}
