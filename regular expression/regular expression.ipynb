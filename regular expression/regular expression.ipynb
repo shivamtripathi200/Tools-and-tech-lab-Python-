{
 "cells": [
  {
   "cell_type": "code",
   "execution_count": 1,
   "id": "8eae1fd6",
   "metadata": {},
   "outputs": [],
   "source": [
    "import re\n"
   ]
  },
  {
   "cell_type": "code",
   "execution_count": 3,
   "id": "ee207356",
   "metadata": {},
   "outputs": [
    {
     "name": "stdout",
     "output_type": "stream",
     "text": [
      "True\n",
      "True\n",
      "False\n",
      "True\n"
     ]
    }
   ],
   "source": [
    "print(re.match(\"(ab)*\", \"abababab\")is not None)\n",
    "print(re.match(\"(ab)*\", \"ababa\")is not None)\n",
    "print(re.match(\"(ab)$\", \"ababa\")is not None)\n",
    "print(re.match(\"(ab)*\", \"\")is not None)"
   ]
  },
  {
   "cell_type": "code",
   "execution_count": 4,
   "id": "53a4bf5c",
   "metadata": {},
   "outputs": [
    {
     "data": {
      "text/plain": [
       "' .dot -> any single character except newline\\n^ -> start of string\\n$ -> end of string \\n[] -> list of characters\\n\\\\w -> single letter ,digit or underscore\\n\\\\W -> opposite of \\\\w\\n\\\\s -> single whitespace\\n\\\\S -> opposite of \\\\s\\n\\\\d -> digit\\n\\\\D -> not a digit\\n+  -> pattern appears once or more \\n* -> pattern appears 0 or 1 times\\n{} -> pattern appears specified number of times\\np1 | p2 -> pattern1 or pattern 2(any)'"
      ]
     },
     "execution_count": 4,
     "metadata": {},
     "output_type": "execute_result"
    }
   ],
   "source": [
    "\"\"\" .dot -> any single character except newline\n",
    "^ -> start of string\n",
    "$ -> end of string \n",
    "[] -> list of characters\n",
    "\\w -> single letter ,digit or underscore\n",
    "\\W -> opposite of \\w\n",
    "\\s -> single whitespace\n",
    "\\S -> opposite of \\s\n",
    "\\d -> digit\n",
    "\\D -> not a digit\n",
    "+  -> pattern appears once or more \n",
    "* -> pattern appears 0 or 1 times\n",
    "{} -> pattern appears specified number of times\n",
    "p1 | p2 -> pattern1 or pattern 2(any)\"\"\"\n"
   ]
  },
  {
   "cell_type": "code",
   "execution_count": 5,
   "id": "77c796a2",
   "metadata": {},
   "outputs": [
    {
     "name": "stdout",
     "output_type": "stream",
     "text": [
      "False\n",
      "True\n"
     ]
    }
   ],
   "source": [
    "print(re.match(\"^...$\",\"ab\")is not None)\n",
    "print(re.match(\"^...$\",\"abc\")is not None)\n"
   ]
  },
  {
   "cell_type": "code",
   "execution_count": 7,
   "id": "f60458b6",
   "metadata": {},
   "outputs": [
    {
     "name": "stdout",
     "output_type": "stream",
     "text": [
      "True\n",
      "False\n"
     ]
    }
   ],
   "source": [
    "print(re.match(\"^.{4}$\", \"abcd\")is not None)\n",
    "print(re.match(\"^.{4}$\", \"abc\")is not None)"
   ]
  },
  {
   "cell_type": "code",
   "execution_count": 10,
   "id": "601e5995",
   "metadata": {},
   "outputs": [
    {
     "name": "stdout",
     "output_type": "stream",
     "text": [
      "True\n",
      "True\n",
      "False\n"
     ]
    }
   ],
   "source": [
    "print(re.match(\"^...?$\", \"ab\")is not None)\n",
    "print(re.match(\"^...?$\", \"abc\")is not None)\n",
    "print(re.match(\"^...?$\", \"abcd\")is not None)\n",
    "\n"
   ]
  },
  {
   "cell_type": "code",
   "execution_count": 11,
   "id": "aabe7f3a",
   "metadata": {},
   "outputs": [
    {
     "name": "stdout",
     "output_type": "stream",
     "text": [
      "True\n",
      "False\n",
      "True\n",
      "False\n"
     ]
    }
   ],
   "source": [
    "pattern = \"^2105\\d{3}\\d?$\"\n",
    "print(re.match(pattern,\"21052950\") is not None)\n",
    "print(re.match(pattern,\"22052950\") is not None)\n",
    "print(re.match(pattern,\"2105950\") is not None)\n",
    "print(re.match(pattern,\"2105295o\") is not None)"
   ]
  },
  {
   "cell_type": "code",
   "execution_count": null,
   "id": "dc17c859",
   "metadata": {},
   "outputs": [],
   "source": [
    "rn = \"^[A-Za-z]\\w*()\"\n",
    "print(re.match(pattern,\"ab1c.ab_c_d@pqr.com\")is not None)"
   ]
  }
 ],
 "metadata": {
  "kernelspec": {
   "display_name": "Python 3 (ipykernel)",
   "language": "python",
   "name": "python3"
  },
  "language_info": {
   "codemirror_mode": {
    "name": "ipython",
    "version": 3
   },
   "file_extension": ".py",
   "mimetype": "text/x-python",
   "name": "python",
   "nbconvert_exporter": "python",
   "pygments_lexer": "ipython3",
   "version": "3.11.5"
  }
 },
 "nbformat": 4,
 "nbformat_minor": 5
}
