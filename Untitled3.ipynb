{
 "cells": [
  {
   "cell_type": "code",
   "execution_count": null,
   "id": "e0e380d2",
   "metadata": {},
   "outputs": [],
   "source": [
    "import pygame\n",
    "import sys\n",
    "import math\n",
    "\n",
    "# Initialize Pygame\n",
    "pygame.init()\n",
    "\n",
    "# Set up the display\n",
    "width, height = 800, 600\n",
    "screen = pygame.display.set_mode((width, height))\n",
    "pygame.display.set_caption(\"Shapes Design\")\n",
    "\n",
    "# Set up colors\n",
    "white = (255, 255, 255)\n",
    "black = (0, 0, 0)\n",
    "red = (255, 0, 0)\n",
    "green = (0, 255, 0)\n",
    "blue = (0, 0, 255)\n",
    "\n",
    "# Function to draw a circle\n",
    "def draw_circle(x, y, radius, color):\n",
    "    pygame.draw.circle(screen, color, (x, y), radius)\n",
    "\n",
    "# Function to draw a rectangle\n",
    "def draw_rectangle(x, y, width, height, color):\n",
    "    pygame.draw.rect(screen, color, (x, y, width, height))\n",
    "\n",
    "# Function to draw a triangle\n",
    "def draw_triangle(x, y, side_length, color):\n",
    "    height = int(math.sqrt(3) / 2 * side_length)\n",
    "    points = [(x, y), (x + side_length, y), (x + side_length / 2, y - height)]\n",
    "    pygame.draw.polygon(screen, color, points)\n",
    "\n",
    "# Main game loop\n",
    "running = True\n",
    "while running:\n",
    "    for event in pygame.event.get():\n",
    "        if event.type == pygame.QUIT:\n",
    "            running = False\n",
    "    screen.fill(white)\n",
    "\n",
    "    # Draw shapes\n",
    "    draw_circle(100, 100, 50, red)\n",
    "    draw_rectangle(200, 100, 80, 60, green)\n",
    "    draw_triangle(350, 100, 100, blue)\n",
    "\n",
    "    # Update the display\n",
    "    pygame.display.flip()\n",
    "\n",
    "    # Set the frames per second\n",
    "    pygame.time.Clock().tick(30)\n",
    "\n",
    "# Quit Pygame\n",
    "pygame.quit"
   ]
  },
  {
   "cell_type": "code",
   "execution_count": null,
   "id": "8406e7a9",
   "metadata": {},
   "outputs": [],
   "source": []
  },
  {
   "cell_type": "code",
   "execution_count": null,
   "id": "c7e7b426",
   "metadata": {},
   "outputs": [],
   "source": []
  }
 ],
 "metadata": {
  "kernelspec": {
   "display_name": "Python 3 (ipykernel)",
   "language": "python",
   "name": "python3"
  },
  "language_info": {
   "codemirror_mode": {
    "name": "ipython",
    "version": 3
   },
   "file_extension": ".py",
   "mimetype": "text/x-python",
   "name": "python",
   "nbconvert_exporter": "python",
   "pygments_lexer": "ipython3",
   "version": "3.11.5"
  }
 },
 "nbformat": 4,
 "nbformat_minor": 5
}
