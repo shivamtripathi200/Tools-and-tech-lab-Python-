{
 "cells": [
  {
   "cell_type": "markdown",
   "id": "88d3cbff",
   "metadata": {},
   "source": [
    "# Class and object"
   ]
  },
  {
   "cell_type": "code",
   "execution_count": 9,
   "id": "aedf78ae",
   "metadata": {},
   "outputs": [
    {
     "name": "stdout",
     "output_type": "stream",
     "text": [
      "Shivam says hello\n",
      "{'Math': 40, 'Physics': 43}\n",
      "total 83 out of  100\n"
     ]
    }
   ],
   "source": [
    "class Student:\n",
    "    def __init__(self,name):\n",
    "        self.name = name\n",
    "        self.marks = {}\n",
    "    \n",
    "    def greet(self):\n",
    "        print(self.name,'says hello')\n",
    "        \n",
    "    def addMarks(self,subject,marks):\n",
    "        self.marks[subject] = marks\n",
    "    \n",
    "    def printTotal(self):\n",
    "        print(self.marks)\n",
    "        total = 0\n",
    "        maxMarks = 0\n",
    "        for sub in self.marks:\n",
    "            total = total + self.marks[sub]\n",
    "            maxMarks +=50\n",
    "        print('total',total,'out of ',maxMarks)\n",
    "    \n",
    "s1=Student('Shivam')\n",
    "s1.greet()\n",
    "s1.addMarks('Math',40)\n",
    "s1.addMarks('Physics',43)\n",
    "s1.printTotal()\n"
   ]
  },
  {
   "cell_type": "markdown",
   "id": "3a9ddc0a",
   "metadata": {},
   "source": [
    "# Implement a vector classs to store and manipulate 2d vector .Implement add function in the class that returns a new vector.Also define a method to multiply by scalar and return the new vector"
   ]
  },
  {
   "cell_type": "code",
   "execution_count": 11,
   "id": "29086629",
   "metadata": {},
   "outputs": [],
   "source": [
    "class Vector:\n",
    "\n",
    "    def __init__(self,x,y):\n",
    "\n",
    "        self.x=x\n",
    "\n",
    "        self.y=y\n",
    "\n",
    "       \n",
    "\n",
    "    def add(self,a,b):\n",
    "\n",
    "        v2=Vector(a,b)\n",
    "\n",
    "        v2.x=self.x+v2.x\n",
    "\n",
    "        v2.y=self.y+v2.y\n",
    "\n",
    "        return v2\n",
    "\n",
    "    def multiply(self,n):\n",
    "\n",
    "        v2=Vector(0,0)\n",
    "\n",
    "        v2.x=self.x*n\n",
    "\n",
    "        v2.y=self.y*n\n",
    "\n",
    "        return v2\n",
    "\n",
    "   \n",
    "\n"
   ]
  },
  {
   "cell_type": "code",
   "execution_count": 14,
   "id": "1d1baffb",
   "metadata": {},
   "outputs": [
    {
     "name": "stdout",
     "output_type": "stream",
     "text": [
      "First vector :  8 i + 15 j\n",
      "ADDITION :  40 i + 46 j\n",
      "MULTIPLICATION:  32 i + 60 j\n"
     ]
    }
   ],
   "source": [
    "\n",
    "v1=Vector(8,15)\n",
    "\n",
    "print('FIRST VECTOR : ',v1.x,'i +',v1.y,'j')\n",
    "\n",
    "v2=v1.add(32,31)\n",
    "\n",
    "print('ADDITION : ',v2.x,'i +',v2.y,'j')\n",
    "\n",
    "v3=v1.multiply(4)\n",
    "\n",
    "print('MULTIPLICATION: ',v3.x,'i +',v3.y,'j')"
   ]
  },
  {
   "cell_type": "markdown",
   "id": "5fbe4da7",
   "metadata": {},
   "source": [
    "# Abstraction\n"
   ]
  },
  {
   "cell_type": "code",
   "execution_count": 27,
   "id": "472f0bd9",
   "metadata": {},
   "outputs": [
    {
     "name": "stdout",
     "output_type": "stream",
     "text": [
      "Clifford is a  dog,\n",
      "Cosmo is a husky dog,\n",
      "Woof woof! Cosmo says hello.\n",
      "ginger is a  cat,\n",
      "Meow meow! ginger says hello\n",
      "Is ginger black? False\n"
     ]
    }
   ],
   "source": [
    "class Pet:\n",
    "    def __init__(self,name,kind):\n",
    "        self.name = name\n",
    "        self.kind = kind\n",
    "        \n",
    "    def describe(self):\n",
    "        print(self.name,'is a ',self.kind+',')\n",
    "        \n",
    "    def greet(self):\n",
    "        pass\n",
    "    \n",
    "    \n",
    "class Dog(pet):\n",
    "    def __init__(self,name,breed):\n",
    "        Pet.__init__(self,name,'dog')\n",
    "        self.breed = breed\n",
    "        \n",
    "    def describe(self):\n",
    "        print(self.name,'is a',self.breed,self.kind+',')\n",
    "    \n",
    "    def greet(self):\n",
    "        print('Woof woof!',self.name,'says hello.')\n",
    "\n",
    "class cat(pet):\n",
    "    def __init__(self,name,color):\n",
    "        pet.__init__(self,name,'cat')\n",
    "        self.color = color\n",
    "    \n",
    "    def greet(self):\n",
    "        print('Meow meow!',self.name,'says hello')\n",
    "    \n",
    "    def isblack(self):\n",
    "        return self.color == 'black'\n",
    "\n",
    "p1 = Pet('Clifford','dog')\n",
    "p1.describe()\n",
    "p11 = Dog('Cosmo','husky')\n",
    "p11.describe()\n",
    "p11.greet()\n",
    "p2= cat('ginger','brown')\n",
    "p2.describe()\n",
    "p2.greet()\n",
    "print('Is',p2.name,'black?',p2.isblack())\n",
    "\n"
   ]
  },
  {
   "cell_type": "code",
   "execution_count": null,
   "id": "fbfd70fa",
   "metadata": {},
   "outputs": [],
   "source": [
    "class FlightSchedule:\n",
    "    def __init__()"
   ]
  }
 ],
 "metadata": {
  "kernelspec": {
   "display_name": "Python 3 (ipykernel)",
   "language": "python",
   "name": "python3"
  },
  "language_info": {
   "codemirror_mode": {
    "name": "ipython",
    "version": 3
   },
   "file_extension": ".py",
   "mimetype": "text/x-python",
   "name": "python",
   "nbconvert_exporter": "python",
   "pygments_lexer": "ipython3",
   "version": "3.11.5"
  }
 },
 "nbformat": 4,
 "nbformat_minor": 5
}
