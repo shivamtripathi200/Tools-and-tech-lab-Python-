{
 "cells": [
  {
   "cell_type": "code",
   "execution_count": 1,
   "id": "5343b0f2",
   "metadata": {},
   "outputs": [],
   "source": [
    "a=19"
   ]
  },
  {
   "cell_type": "code",
   "execution_count": 2,
   "id": "e5b7f9bf",
   "metadata": {},
   "outputs": [
    {
     "name": "stdout",
     "output_type": "stream",
     "text": [
      "19\n"
     ]
    }
   ],
   "source": [
    "print(a)"
   ]
  },
  {
   "cell_type": "code",
   "execution_count": 3,
   "id": "a57677e0",
   "metadata": {},
   "outputs": [],
   "source": [
    "b=20\n",
    "c=43\n",
    "ewedsdasdasdasdasd=233\n"
   ]
  },
  {
   "cell_type": "code",
   "execution_count": 4,
   "id": "c81d3702",
   "metadata": {},
   "outputs": [],
   "source": [
    "shivam=\"CHUTIYA\"\n"
   ]
  },
  {
   "cell_type": "code",
   "execution_count": 9,
   "id": "5abdc506",
   "metadata": {},
   "outputs": [],
   "source": [
    "unik=\"DON\"\n",
    "tushar=\"CHOR\""
   ]
  },
  {
   "cell_type": "code",
   "execution_count": 8,
   "id": "6eb5c449",
   "metadata": {},
   "outputs": [
    {
     "ename": "SyntaxError",
     "evalue": "invalid syntax (168800259.py, line 1)",
     "output_type": "error",
     "traceback": [
      "\u001b[0;36m  Cell \u001b[0;32mIn[8], line 1\u001b[0;36m\u001b[0m\n\u001b[0;31m    print(`Shivam is ${shivam} & Unik is ${unik}`)\u001b[0m\n\u001b[0m          ^\u001b[0m\n\u001b[0;31mSyntaxError\u001b[0m\u001b[0;31m:\u001b[0m invalid syntax\n"
     ]
    }
   ],
   "source": []
  },
  {
   "cell_type": "code",
   "execution_count": null,
   "id": "4a2bd400",
   "metadata": {},
   "outputs": [],
   "source": []
  }
 ],
 "metadata": {
  "kernelspec": {
   "display_name": "Python 3 (ipykernel)",
   "language": "python",
   "name": "python3"
  },
  "language_info": {
   "codemirror_mode": {
    "name": "ipython",
    "version": 3
   },
   "file_extension": ".py",
   "mimetype": "text/x-python",
   "name": "python",
   "nbconvert_exporter": "python",
   "pygments_lexer": "ipython3",
   "version": "3.11.5"
  }
 },
 "nbformat": 4,
 "nbformat_minor": 5
}
