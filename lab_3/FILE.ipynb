{
 "cells": [
  {
   "cell_type": "code",
   "execution_count": 1,
   "id": "5ea2a0e6",
   "metadata": {},
   "outputs": [],
   "source": [
    "#fILE I/O\n",
    "f1=open('data.txt','w')\n",
    "f1.write('''The study uses a robot to fjl  dsgjdf j dklg g jdak\n",
    " gjgdlgj jg dlgf gj ld\n",
    " dddf gdd gdgdfhdf f fs fddf gs \n",
    " s gshfhhfh dfh fjgfh fg jfg f''')\n",
    "f1.close()"
   ]
  },
  {
   "cell_type": "code",
   "execution_count": 2,
   "id": "b708c87e",
   "metadata": {},
   "outputs": [
    {
     "name": "stdout",
     "output_type": "stream",
     "text": [
      "data.txt  FILE.ipynb\r\n"
     ]
    }
   ],
   "source": [
    "!ls\n"
   ]
  },
  {
   "cell_type": "code",
   "execution_count": 3,
   "id": "ea9e1532",
   "metadata": {},
   "outputs": [
    {
     "name": "stdout",
     "output_type": "stream",
     "text": [
      "The study uses a robot to fjl  dsgjdf j dklg g jdak\n",
      " gjgdlgj jg dlgf gj ld\n",
      " dddf gdd gdgdfhdf f fs fddf gs \n",
      " s gshfhhfh dfh fjgfh fg jfg f\n"
     ]
    }
   ],
   "source": [
    "#Read the file\n",
    "with open('data.txt','r') as f2:\n",
    "    data = f2.read()\n",
    "    print(data)"
   ]
  },
  {
   "cell_type": "code",
   "execution_count": 4,
   "id": "5ce1c12a",
   "metadata": {},
   "outputs": [
    {
     "name": "stdout",
     "output_type": "stream",
     "text": [
      "* The study uses a robot to fjl  dsgjdf j dklg g jdak\n",
      "*  gjgdlgj jg dlgf gj ld\n",
      "*  dddf gdd gdgdfhdf f fs fddf gs \n",
      "*  s gshfhhfh dfh fjgfh fg jfg f"
     ]
    }
   ],
   "source": [
    "with open('data.txt','r') as f3:\n",
    "    for l in f3:\n",
    "        print(\"*\",l,end=\"\")"
   ]
  },
  {
   "cell_type": "code",
   "execution_count": 5,
   "id": "77a12519",
   "metadata": {},
   "outputs": [
    {
     "name": "stdout",
     "output_type": "stream",
     "text": [
      "Requirement already satisfied: jsons in /home/shivam/anaconda3/lib/python3.11/site-packages (1.6.3)\n",
      "Requirement already satisfied: typish>=1.9.2 in /home/shivam/anaconda3/lib/python3.11/site-packages (from jsons) (1.9.3)\n",
      "Note: you may need to restart the kernel to use updated packages.\n"
     ]
    }
   ],
   "source": [
    "pip install jsons\n"
   ]
  },
  {
   "cell_type": "code",
   "execution_count": 1,
   "id": "ecba1260",
   "metadata": {},
   "outputs": [
    {
     "name": "stdout",
     "output_type": "stream",
     "text": [
      "data.txt  FILE.ipynb\r\n"
     ]
    }
   ],
   "source": [
    "!ls"
   ]
  },
  {
   "cell_type": "code",
   "execution_count": 7,
   "id": "4bff408d",
   "metadata": {},
   "outputs": [
    {
     "name": "stdout",
     "output_type": "stream",
     "text": [
      "/bin/bash: line 1: open.: command not found\r\n"
     ]
    }
   ],
   "source": [
    "!open."
   ]
  },
  {
   "cell_type": "code",
   "execution_count": 8,
   "id": "b0a6d5fc",
   "metadata": {},
   "outputs": [],
   "source": [
    "!open .\n"
   ]
  },
  {
   "cell_type": "code",
   "execution_count": 1,
   "id": "e43539fe",
   "metadata": {},
   "outputs": [
    {
     "name": "stdout",
     "output_type": "stream",
     "text": [
      "data.txt  FILE.ipynb\r\n"
     ]
    }
   ],
   "source": [
    "!ls"
   ]
  },
  {
   "cell_type": "code",
   "execution_count": 2,
   "id": "d253279e",
   "metadata": {},
   "outputs": [
    {
     "name": "stdout",
     "output_type": "stream",
     "text": [
      "\u001b[31mERROR: Could not find a version that satisfies the requirement pymongo (from versions: none)\u001b[0m\u001b[31m\r\n",
      "\u001b[0m\u001b[31mERROR: No matching distribution found for pymongo\u001b[0m\u001b[31m\r\n",
      "\u001b[0m"
     ]
    }
   ],
   "source": [
    "!pip install pymongo"
   ]
  },
  {
   "cell_type": "code",
   "execution_count": 4,
   "id": "b8771ea3",
   "metadata": {},
   "outputs": [
    {
     "name": "stdout",
     "output_type": "stream",
     "text": [
      "et porro tempora\n",
      "quo adipisci enim quam ut ab\n",
      "illo est ratione doloremque quia maiores aut\n",
      "vero rerum temporibus dolor\n",
      "ipsa repellendus fugit nisi\n",
      "repellendus sunt dolores architecto voluptatum\n",
      "ab voluptatum amet voluptas\n",
      "accusamus eos facilis sint et aut voluptatem\n",
      "quo laboriosam deleniti aut qui\n",
      "molestiae ipsa aut voluptatibus pariatur dolor nihil\n",
      "ullam nobis libero sapiente ad optio sint\n",
      "distinctio vitae autem nihil ut molestias quo\n",
      "voluptas quo tenetur perspiciatis explicabo natus\n",
      "aliquam aut quasi\n",
      "veritatis pariatur delectus\n",
      "nemo perspiciatis repellat ut dolor libero commodi blanditiis omnis\n",
      "repellendus veritatis molestias dicta incidunt\n",
      "excepturi deleniti adipisci voluptatem et neque optio illum ad\n",
      "totam atque quo nesciunt\n",
      "tempore ut sint quis recusandae\n",
      "cum debitis quis accusamus doloremque ipsa natus sapiente omnis\n",
      "cupiditate necessitatibus ullam aut quis dolor voluptate\n",
      "quis et est ut voluptate quam dolor\n",
      "voluptatum omnis minima qui occaecati provident nulla voluptatem ratione\n",
      "deleniti ea temporibus enim\n",
      "et sequi qui architecto ut adipisci\n",
      "odit optio omnis qui sunt\n",
      "doloremque aut dolores quidem fuga qui nulla\n",
      "sint amet quia totam corporis qui exercitationem commodi\n",
      "sequi dolorem sed\n",
      "eum ipsa maxime ut\n",
      "tempore molestias dolores rerum sequi voluptates ipsum consequatur\n",
      "suscipit qui totam\n",
      "quidem at rerum quis ex aut sit quam\n",
      "et quia ad iste a\n",
      "incidunt ut saepe autem\n",
      "laudantium quae eligendi consequatur quia et vero autem\n",
      "sequi ut omnis et\n",
      "molestiae nisi accusantium tenetur dolorem et\n",
      "nulla quis consequatur saepe qui id expedita\n",
      "in omnis laboriosam\n",
      "odio iure consequatur molestiae quibusdam necessitatibus quia sint\n",
      "vel nihil et molestiae iusto assumenda nemo quo ut\n",
      "debitis accusantium ut quo facilis nihil quis sapiente necessitatibus\n",
      "totam quia dolorem et illum repellat voluptas optio\n",
      "ad illo quis voluptatem temporibus\n",
      "a eos eaque nihil et exercitationem incidunt delectus\n",
      "autem temporibus harum quisquam in culpa\n",
      "aut aut ea corporis\n",
      "ipsa dolores vel facilis ut\n",
      "inventore aut nihil minima laudantium hic qui omnis\n",
      "provident aut nobis culpa\n",
      "ut asperiores perspiciatis veniam ipsum rerum saepe\n",
      "voluptatem libero consectetur rerum ut\n",
      "nulla aliquid eveniet harum laborum libero alias ut unde\n",
      "qui molestiae voluptatibus velit iure harum quisquam\n",
      "et labore eos enim rerum consequatur sunt\n",
      "placeat minima consequatur rem qui ut\n",
      "aut consectetur in blanditiis deserunt quia sed laboriosam\n",
      "explicabo consectetur debitis voluptates quas quae culpa rerum non\n",
      "maiores accusantium architecto necessitatibus reiciendis ea aut\n",
      "molestiae suscipit ratione nihil odio libero impedit vero totam\n",
      "eum itaque quod reprehenderit et facilis dolor autem ut\n",
      "accusamus adipisci dicta qui quo ea explicabo sed vero\n",
      "rerum non ex sapiente\n",
      "voluptatem nobis consequatur et assumenda magnam\n",
      "nam quia quia nulla repellat assumenda quibusdam sit nobis\n",
      "dolorem veniam quisquam deserunt repellendus\n",
      "debitis vitae delectus et harum accusamus aut deleniti a\n",
      "debitis adipisci quibusdam aliquam sed dolore ea praesentium nobis\n",
      "ex hic consequuntur earum omnis alias ut occaecati culpa\n",
      "omnis laboriosam molestias animi sunt dolore\n",
      "ea odio perferendis officiis\n",
      "fugiat aut voluptatibus corrupti deleniti velit iste odio\n",
      "laudantium eius officia perferendis provident perspiciatis asperiores\n",
      "nesciunt itaque commodi tempore\n",
      "omnis consequuntur cupiditate impedit itaque ipsam quo\n",
      "debitis nisi et dolorem repellat et\n",
      "inventore saepe cumque et aut illum enim\n",
      "omnis nulla eum aliquam distinctio\n",
      "vel non beatae est\n",
      "culpa eius et voluptatem et\n",
      "accusamus sint iusto et voluptatem exercitationem\n",
      "temporibus atque distinctio omnis eius impedit tempore molestias pariatur\n",
      "rerum debitis voluptatem qui eveniet tempora distinctio a\n",
      "rerum ex veniam mollitia voluptatibus pariatur\n",
      "consequuntur aut ut fugit similique\n",
      "dignissimos quo nobis earum saepe\n",
      "quis eius est sint explicabo\n",
      "numquam repellendus a magnam\n"
     ]
    }
   ],
   "source": [
    "import json\n",
    "\n",
    "def print_finished_items(file_path):\n",
    "    with open(file_path, 'r') as file:\n",
    "        data = json.load(file)\n",
    "        for item in data:\n",
    "            if item['completed']:\n",
    "                print(item['title'])\n",
    "\n",
    "# Usage:\n",
    "print_finished_items('todo.json')"
   ]
  },
  {
   "cell_type": "code",
   "execution_count": 5,
   "id": "30977f1a",
   "metadata": {},
   "outputs": [
    {
     "ename": "ModuleNotFoundError",
     "evalue": "No module named 'pymongo'",
     "output_type": "error",
     "traceback": [
      "\u001b[0;31m---------------------------------------------------------------------------\u001b[0m",
      "\u001b[0;31mModuleNotFoundError\u001b[0m                       Traceback (most recent call last)",
      "Cell \u001b[0;32mIn[5], line 1\u001b[0m\n\u001b[0;32m----> 1\u001b[0m \u001b[38;5;28;01mfrom\u001b[39;00m \u001b[38;5;21;01mpymongo\u001b[39;00m \u001b[38;5;28;01mimport\u001b[39;00m MongoClient\n\u001b[1;32m      2\u001b[0m loc\u001b[38;5;241m=\u001b[39m\u001b[38;5;124m'\u001b[39m\u001b[38;5;124m10.3.15.237\u001b[39m\u001b[38;5;124m'\u001b[39m\n\u001b[1;32m      3\u001b[0m client\u001b[38;5;241m=\u001b[39mMongoClient(loc)\n",
      "\u001b[0;31mModuleNotFoundError\u001b[0m: No module named 'pymongo'"
     ]
    }
   ],
   "source": [
    "from pymongo import MongoClient\n",
    "loc='10.3.15.237'\n",
    "client=MongoClient(loc)\n",
    "friends = client.CS2940.friends\n",
    "friends.insert_one({'name':'Shikha', 'year':2017})\n",
    "friends.insert_one({'name':'Vinod','year':2012})\n",
    "friends.insert_one({'name':'Rajiv','year':2021})"
   ]
  },
  {
   "cell_type": "code",
   "execution_count": null,
   "id": "1259ed87",
   "metadata": {},
   "outputs": [],
   "source": []
  }
 ],
 "metadata": {
  "kernelspec": {
   "display_name": "Python 3 (ipykernel)",
   "language": "python",
   "name": "python3"
  },
  "language_info": {
   "codemirror_mode": {
    "name": "ipython",
    "version": 3
   },
   "file_extension": ".py",
   "mimetype": "text/x-python",
   "name": "python",
   "nbconvert_exporter": "python",
   "pygments_lexer": "ipython3",
   "version": "3.11.5"
  }
 },
 "nbformat": 4,
 "nbformat_minor": 5
}
