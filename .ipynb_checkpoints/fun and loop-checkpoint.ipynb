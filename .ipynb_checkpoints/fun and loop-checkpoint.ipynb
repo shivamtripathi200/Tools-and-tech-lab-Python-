{
 "cells": [
  {
   "cell_type": "code",
   "execution_count": 1,
   "id": "e8975eea",
   "metadata": {},
   "outputs": [
    {
     "name": "stdout",
     "output_type": "stream",
     "text": [
      "cube of 5= 125\n"
     ]
    }
   ],
   "source": [
    "def cube(x):\n",
    "    return x**3\n",
    "print('cube of 5=',cube(5))"
   ]
  },
  {
   "cell_type": "code",
   "execution_count": 3,
   "id": "2185e282",
   "metadata": {},
   "outputs": [
    {
     "name": "stdout",
     "output_type": "stream",
     "text": [
      "3-5= -1\n",
      "4-3= 1\n"
     ]
    }
   ],
   "source": [
    "def subtract(a, b):\n",
    "    return a-b\n",
    "print('3-5=',subtract(3,4))\n",
    "print('4-3=',subtract(b=3,a=4))"
   ]
  },
  {
   "cell_type": "code",
   "execution_count": 11,
   "id": "88d082ca",
   "metadata": {},
   "outputs": [],
   "source": [
    "def sign(x):\n",
    "    if x<0:\n",
    "        print(x, 'is negetive')\n",
    "    elif x==0:\n",
    "        print(x,'is zero')\n",
    "    else:\n",
    "        print(x, 'is positive')\n",
    "        print('checkpoint 1')\n",
    "    print('checkpoint 2')\n",
    "        "
   ]
  },
  {
   "cell_type": "code",
   "execution_count": 12,
   "id": "2ac465b1",
   "metadata": {},
   "outputs": [
    {
     "name": "stdout",
     "output_type": "stream",
     "text": [
      "-6 is negetive\n",
      "checkpoint 2\n",
      "6 is positive\n",
      "checkpoint 1\n",
      "checkpoint 2\n",
      "0 is zero\n",
      "checkpoint 2\n"
     ]
    }
   ],
   "source": [
    "sign(-6)\n",
    "sign(6)\n",
    "sign(0)"
   ]
  },
  {
   "cell_type": "code",
   "execution_count": 22,
   "id": "abb55c1e",
   "metadata": {},
   "outputs": [
    {
     "name": "stdout",
     "output_type": "stream",
     "text": [
      "1\n",
      "2\n",
      "3\n",
      "4\n",
      "5\n",
      "\n",
      "\n",
      "0\n",
      "1\n",
      "2\n",
      "3\n",
      "4\n"
     ]
    }
   ],
   "source": [
    "def count(n):\n",
    "    for i in range(1,n+1):\n",
    "        print(i)\n",
    "    print('\\n')\n",
    "    for i in range(n):\n",
    "        print(i)\n",
    "    \n",
    "count(5)"
   ]
  },
  {
   "cell_type": "code",
   "execution_count": 21,
   "id": "6780123a",
   "metadata": {},
   "outputs": [
    {
     "name": "stdout",
     "output_type": "stream",
     "text": [
      "3628800\n"
     ]
    }
   ],
   "source": [
    "def factorial(n):\n",
    "    ans = 1\n",
    "    for i in range(2,n+1):\n",
    "        ans = ans*i\n",
    "    return ans\n",
    "print(factorial(10))\n"
   ]
  },
  {
   "cell_type": "code",
   "execution_count": 23,
   "id": "f95a5285",
   "metadata": {},
   "outputs": [
    {
     "name": "stdout",
     "output_type": "stream",
     "text": [
      "1\n",
      "2\n",
      "3\n",
      "4\n",
      "5\n"
     ]
    }
   ],
   "source": [
    "p = 1\n",
    "while p<=5:\n",
    "    print(p)\n",
    "    p+=1"
   ]
  },
  {
   "cell_type": "markdown",
   "id": "ca0a43af",
   "metadata": {},
   "source": [
    "# Practice\n"
   ]
  },
  {
   "cell_type": "code",
   "execution_count": 24,
   "id": "b9b37480",
   "metadata": {},
   "outputs": [
    {
     "name": "stdout",
     "output_type": "stream",
     "text": [
      "Jhon\n",
      "JhonJhonJhon\n"
     ]
    }
   ],
   "source": [
    "name = \"Jhon\"\n",
    "print(name)\n",
    "print(3*name)\n"
   ]
  },
  {
   "cell_type": "code",
   "execution_count": 25,
   "id": "fcee3c4a",
   "metadata": {},
   "outputs": [
    {
     "name": "stdout",
     "output_type": "stream",
     "text": [
      "*_*_*_*_*_*_ CHAPTER-1 _*_*_*_*_*_*\n"
     ]
    }
   ],
   "source": [
    "print('*_'*6,'CHAPTER-1', '_*'*6)"
   ]
  },
  {
   "cell_type": "code",
   "execution_count": 26,
   "id": "c1ec1811",
   "metadata": {},
   "outputs": [
    {
     "ename": "SyntaxError",
     "evalue": "expected ':' (1013810894.py, line 8)",
     "output_type": "error",
     "traceback": [
      "\u001b[0;36m  Cell \u001b[0;32mIn[26], line 8\u001b[0;36m\u001b[0m\n\u001b[0;31m    for i in range(h-1,0)\u001b[0m\n\u001b[0m                         ^\u001b[0m\n\u001b[0;31mSyntaxError\u001b[0m\u001b[0;31m:\u001b[0m expected ':'\n"
     ]
    }
   ],
   "source": [
    "#function to draw a tree of height h\n",
    "'''h=3\n",
    "    *\n",
    "  * * *\n",
    "* * * * *'''\n",
    "def drawtree(h):\n",
    "    for i in range(h):\n",
    "        for j in range(j,0,-1):\n",
    "            print(' ')\n",
    "            "
   ]
  },
  {
   "cell_type": "code",
   "execution_count": 34,
   "id": "66b45dde",
   "metadata": {},
   "outputs": [
    {
     "name": "stdout",
     "output_type": "stream",
     "text": [
      "10 is even\n",
      "5 is odd\n"
     ]
    }
   ],
   "source": [
    "# 1.WAP to print if the number is even/odd\n",
    "def even_odd(x):\n",
    "    if x%2 == 0:\n",
    "        print(x,'is even')\n",
    "    else:\n",
    "        print(x,'is odd')\n",
    "\n",
    "even_odd(10)\n",
    "even_odd(5)\n",
    "        "
   ]
  },
  {
   "cell_type": "code",
   "execution_count": 37,
   "id": "c5443e2d",
   "metadata": {},
   "outputs": [
    {
     "name": "stdout",
     "output_type": "stream",
     "text": [
      "0\n",
      "1\n"
     ]
    },
    {
     "data": {
      "text/plain": [
       "5"
      ]
     },
     "execution_count": 37,
     "metadata": {},
     "output_type": "execute_result"
    }
   ],
   "source": [
    "#function to compute nth fibonacci series\n",
    "def fibonaci(n):\n",
    "    a=0\n",
    "    b=1\n",
    "    i=1\n",
    "    print(a)\n",
    "    print(b)\n",
    "    for i in range(2,n+1):\n",
    "        ans = a+b\n",
    "        a=b\n",
    "        b = ans\n",
    "    return ans\n",
    "fibonaci(5)\n",
    "        \n",
    "        "
   ]
  },
  {
   "cell_type": "markdown",
   "id": "0b54a17d",
   "metadata": {},
   "source": [
    "# Datastructure\n"
   ]
  },
  {
   "cell_type": "code",
   "execution_count": 38,
   "id": "4f95f382",
   "metadata": {},
   "outputs": [
    {
     "name": "stdout",
     "output_type": "stream",
     "text": [
      "<class 'list'>\n",
      "[1, 2, 3, 4]\n"
     ]
    }
   ],
   "source": [
    "a = [1,2,3,4]\n",
    "print(type(a))\n",
    "print (a)"
   ]
  },
  {
   "cell_type": "code",
   "execution_count": 46,
   "id": "5c86ce1d",
   "metadata": {},
   "outputs": [
    {
     "name": "stdout",
     "output_type": "stream",
     "text": [
      "<class 'int'>\n",
      "4\n"
     ]
    }
   ],
   "source": [
    "print(type(a[3]))\n",
    "print(a[3])\n"
   ]
  },
  {
   "cell_type": "code",
   "execution_count": 57,
   "id": "0ed9f611",
   "metadata": {},
   "outputs": [
    {
     "name": "stdout",
     "output_type": "stream",
     "text": [
      "Help on list object:\n",
      "\n",
      "class list(object)\n",
      " |  list(iterable=(), /)\n",
      " |  \n",
      " |  Built-in mutable sequence.\n",
      " |  \n",
      " |  If no argument is given, the constructor creates a new empty list.\n",
      " |  The argument must be an iterable if specified.\n",
      " |  \n",
      " |  Methods defined here:\n",
      " |  \n",
      " |  __add__(self, value, /)\n",
      " |      Return self+value.\n",
      " |  \n",
      " |  __contains__(self, key, /)\n",
      " |      Return key in self.\n",
      " |  \n",
      " |  __delitem__(self, key, /)\n",
      " |      Delete self[key].\n",
      " |  \n",
      " |  __eq__(self, value, /)\n",
      " |      Return self==value.\n",
      " |  \n",
      " |  __ge__(self, value, /)\n",
      " |      Return self>=value.\n",
      " |  \n",
      " |  __getattribute__(self, name, /)\n",
      " |      Return getattr(self, name).\n",
      " |  \n",
      " |  __getitem__(...)\n",
      " |      x.__getitem__(y) <==> x[y]\n",
      " |  \n",
      " |  __gt__(self, value, /)\n",
      " |      Return self>value.\n",
      " |  \n",
      " |  __iadd__(self, value, /)\n",
      " |      Implement self+=value.\n",
      " |  \n",
      " |  __imul__(self, value, /)\n",
      " |      Implement self*=value.\n",
      " |  \n",
      " |  __init__(self, /, *args, **kwargs)\n",
      " |      Initialize self.  See help(type(self)) for accurate signature.\n",
      " |  \n",
      " |  __iter__(self, /)\n",
      " |      Implement iter(self).\n",
      " |  \n",
      " |  __le__(self, value, /)\n",
      " |      Return self<=value.\n",
      " |  \n",
      " |  __len__(self, /)\n",
      " |      Return len(self).\n",
      " |  \n",
      " |  __lt__(self, value, /)\n",
      " |      Return self<value.\n",
      " |  \n",
      " |  __mul__(self, value, /)\n",
      " |      Return self*value.\n",
      " |  \n",
      " |  __ne__(self, value, /)\n",
      " |      Return self!=value.\n",
      " |  \n",
      " |  __repr__(self, /)\n",
      " |      Return repr(self).\n",
      " |  \n",
      " |  __reversed__(self, /)\n",
      " |      Return a reverse iterator over the list.\n",
      " |  \n",
      " |  __rmul__(self, value, /)\n",
      " |      Return value*self.\n",
      " |  \n",
      " |  __setitem__(self, key, value, /)\n",
      " |      Set self[key] to value.\n",
      " |  \n",
      " |  __sizeof__(self, /)\n",
      " |      Return the size of the list in memory, in bytes.\n",
      " |  \n",
      " |  append(self, object, /)\n",
      " |      Append object to the end of the list.\n",
      " |  \n",
      " |  clear(self, /)\n",
      " |      Remove all items from list.\n",
      " |  \n",
      " |  copy(self, /)\n",
      " |      Return a shallow copy of the list.\n",
      " |  \n",
      " |  count(self, value, /)\n",
      " |      Return number of occurrences of value.\n",
      " |  \n",
      " |  extend(self, iterable, /)\n",
      " |      Extend list by appending elements from the iterable.\n",
      " |  \n",
      " |  index(self, value, start=0, stop=9223372036854775807, /)\n",
      " |      Return first index of value.\n",
      " |      \n",
      " |      Raises ValueError if the value is not present.\n",
      " |  \n",
      " |  insert(self, index, object, /)\n",
      " |      Insert object before index.\n",
      " |  \n",
      " |  pop(self, index=-1, /)\n",
      " |      Remove and return item at index (default last).\n",
      " |      \n",
      " |      Raises IndexError if list is empty or index is out of range.\n",
      " |  \n",
      " |  remove(self, value, /)\n",
      " |      Remove first occurrence of value.\n",
      " |      \n",
      " |      Raises ValueError if the value is not present.\n",
      " |  \n",
      " |  reverse(self, /)\n",
      " |      Reverse *IN PLACE*.\n",
      " |  \n",
      " |  sort(self, /, *, key=None, reverse=False)\n",
      " |      Sort the list in ascending order and return None.\n",
      " |      \n",
      " |      The sort is in-place (i.e. the list itself is modified) and stable (i.e. the\n",
      " |      order of two equal elements is maintained).\n",
      " |      \n",
      " |      If a key function is given, apply it once to each list item and sort them,\n",
      " |      ascending or descending, according to their function values.\n",
      " |      \n",
      " |      The reverse flag can be set to sort in descending order.\n",
      " |  \n",
      " |  ----------------------------------------------------------------------\n",
      " |  Class methods defined here:\n",
      " |  \n",
      " |  __class_getitem__(...) from builtins.type\n",
      " |      See PEP 585\n",
      " |  \n",
      " |  ----------------------------------------------------------------------\n",
      " |  Static methods defined here:\n",
      " |  \n",
      " |  __new__(*args, **kwargs) from builtins.type\n",
      " |      Create and return a new object.  See help(type) for accurate signature.\n",
      " |  \n",
      " |  ----------------------------------------------------------------------\n",
      " |  Data and other attributes defined here:\n",
      " |  \n",
      " |  __hash__ = None\n",
      "\n"
     ]
    }
   ],
   "source": [
    "help(a)"
   ]
  },
  {
   "cell_type": "code",
   "execution_count": null,
   "id": "4d3f65aa",
   "metadata": {},
   "outputs": [],
   "source": [
    "a.append(2950)\n",
    "print(a)"
   ]
  },
  {
   "cell_type": "code",
   "execution_count": 49,
   "id": "8d250dcc",
   "metadata": {},
   "outputs": [
    {
     "name": "stdout",
     "output_type": "stream",
     "text": [
      "<class 'tuple'>\n",
      "(1, 2, 3, 4)\n"
     ]
    }
   ],
   "source": [
    "b = (1,2,3,4)\n",
    "print(type(b))\n",
    "print(b)"
   ]
  },
  {
   "cell_type": "code",
   "execution_count": 56,
   "id": "82f4d319",
   "metadata": {},
   "outputs": [
    {
     "name": "stdout",
     "output_type": "stream",
     "text": [
      "[1, 2, 3, 10]\n",
      "(1, 2, 3, 4)\n"
     ]
    }
   ],
   "source": [
    "a[3]=10\n",
    "# b[3]=10 this is not correct\n",
    "print(a)\n",
    "print(b)"
   ]
  },
  {
   "cell_type": "code",
   "execution_count": 43,
   "id": "24327ae3",
   "metadata": {},
   "outputs": [
    {
     "name": "stdout",
     "output_type": "stream",
     "text": [
      "<class 'dict'>\n",
      "{'Bihar': 'patna', 'odisha': 'bhubaneswar', 'WB': 'kolkata'}\n"
     ]
    }
   ],
   "source": [
    "# dictionary\n",
    "c = {\n",
    "    'Bihar': 'patna',\n",
    "    'odisha':'bhubaneswar',\n",
    "    'WB':'kolkata',\n",
    "}\n",
    "print(type(c))\n",
    "print(c)"
   ]
  },
  {
   "cell_type": "code",
   "execution_count": 45,
   "id": "4e5eb41e",
   "metadata": {},
   "outputs": [
    {
     "name": "stdout",
     "output_type": "stream",
     "text": [
      "kolkata\n"
     ]
    }
   ],
   "source": [
    "print(c['WB'])"
   ]
  },
  {
   "cell_type": "code",
   "execution_count": 47,
   "id": "b9312e03",
   "metadata": {},
   "outputs": [
    {
     "name": "stdout",
     "output_type": "stream",
     "text": [
      "1\n",
      "4\n",
      "9\n",
      "16\n"
     ]
    }
   ],
   "source": [
    "for x in a:\n",
    "    print(x*x)"
   ]
  },
  {
   "cell_type": "code",
   "execution_count": 50,
   "id": "b5ff0641",
   "metadata": {},
   "outputs": [
    {
     "name": "stdout",
     "output_type": "stream",
     "text": [
      "1\n",
      "4\n",
      "9\n",
      "16\n"
     ]
    }
   ],
   "source": [
    "for x in b:\n",
    "    print(x*x)"
   ]
  },
  {
   "cell_type": "code",
   "execution_count": 51,
   "id": "804d8dd7",
   "metadata": {},
   "outputs": [
    {
     "name": "stdout",
     "output_type": "stream",
     "text": [
      "Bihar -> patna\n",
      "odisha -> bhubaneswar\n",
      "WB -> kolkata\n"
     ]
    }
   ],
   "source": [
    "for x in c :\n",
    "    print(x,'->',c[x])"
   ]
  },
  {
   "cell_type": "code",
   "execution_count": 52,
   "id": "d13fb108",
   "metadata": {},
   "outputs": [
    {
     "name": "stdout",
     "output_type": "stream",
     "text": [
      "True\n",
      "False\n",
      "True\n",
      "False\n"
     ]
    }
   ],
   "source": [
    "print(4 in a)\n",
    "print(5 in a)\n",
    "print(4 in b)\n",
    "print(5 in b)"
   ]
  },
  {
   "cell_type": "code",
   "execution_count": 54,
   "id": "61f55db5",
   "metadata": {},
   "outputs": [
    {
     "name": "stdout",
     "output_type": "stream",
     "text": [
      "True\n",
      "False\n"
     ]
    }
   ],
   "source": [
    "print('Bihar'in c)\n",
    "print('AP' in c)"
   ]
  },
  {
   "cell_type": "code",
   "execution_count": 58,
   "id": "1f234191",
   "metadata": {},
   "outputs": [
    {
     "name": "stdout",
     "output_type": "stream",
     "text": [
      "a\n",
      "p\n",
      "p\n",
      "l\n",
      "e\n",
      ",a,p,p,l,e\n"
     ]
    }
   ],
   "source": [
    "d = ''\n",
    "for c in 'apple':\n",
    "    print(c)\n",
    "    d=d+','+c\n",
    "print(d)"
   ]
  },
  {
   "cell_type": "code",
   "execution_count": null,
   "id": "a154b56a",
   "metadata": {},
   "outputs": [],
   "source": []
  }
 ],
 "metadata": {
  "kernelspec": {
   "display_name": "Python 3 (ipykernel)",
   "language": "python",
   "name": "python3"
  },
  "language_info": {
   "codemirror_mode": {
    "name": "ipython",
    "version": 3
   },
   "file_extension": ".py",
   "mimetype": "text/x-python",
   "name": "python",
   "nbconvert_exporter": "python",
   "pygments_lexer": "ipython3",
   "version": "3.11.5"
  }
 },
 "nbformat": 4,
 "nbformat_minor": 5
}
