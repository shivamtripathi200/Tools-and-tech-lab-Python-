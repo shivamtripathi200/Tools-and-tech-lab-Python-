{
 "cells": [
  {
   "cell_type": "code",
   "execution_count": null,
   "id": "ca5017c6",
   "metadata": {},
   "outputs": [],
   "source": [
    "import pygame as pg\n",
    "pg.init()\n",
    "screen = pg.display.set_mode((800,600),pg.HWSURFACE)\n",
    "scale = 32\n",
    "\n",
    "active = True\n",
    "while active:\n",
    "    pg.event.pump()\n",
    "    keys = pg.key.get_pressed()\n",
    "    if (key[pg.K_ESCAPE]):\n",
    "        active = False\n",
    "    pg.time.Clock().tick(18)\n",
    "    pg.display.flip()\n",
    "    "
   ]
  },
  {
   "cell_type": "code",
   "execution_count": 1,
   "id": "c1fdaa0d",
   "metadata": {},
   "outputs": [],
   "source": [
    "white = (255, 255, 255)\n",
    "black = (0, 0, 0)\n",
    "red = (255, 0, 0)\n",
    "green = (0, 255, 0)\n",
    "blue = (0, 0, 255)\n",
    "\n"
   ]
  },
  {
   "cell_type": "code",
   "execution_count": 2,
   "id": "8faddd27",
   "metadata": {},
   "outputs": [],
   "source": [
    "def draw_circle(x, y, radius, color):\n",
    "    pygame.draw.circle(screen, color, (x, y), radius)\n",
    "\n",
    "# Function to draw a rectangle\n",
    "def draw_rectangle(x, y, width, height, color):\n",
    "    pygame.draw.rect(screen, color, (x, y, width, height))\n",
    "\n",
    "# Function to draw a triangle\n",
    "def draw_triangle(x, y, side_length, color):\n",
    "    height = int(math.sqrt(3) / 2 * side_length)\n",
    "    points = [(x, y), (x + side_length, y), (x + side_length / 2, y - height)]\n",
    "    pygame.draw.polygon(screen, color, points)"
   ]
  },
  {
   "cell_type": "code",
   "execution_count": 4,
   "id": "eeb1a68e",
   "metadata": {},
   "outputs": [
    {
     "ename": "NameError",
     "evalue": "name 'pygame' is not defined",
     "output_type": "error",
     "traceback": [
      "\u001b[0;31m---------------------------------------------------------------------------\u001b[0m",
      "\u001b[0;31mNameError\u001b[0m                                 Traceback (most recent call last)",
      "Cell \u001b[0;32mIn[4], line 3\u001b[0m\n\u001b[1;32m      1\u001b[0m running \u001b[38;5;241m=\u001b[39m \u001b[38;5;28;01mTrue\u001b[39;00m\n\u001b[1;32m      2\u001b[0m \u001b[38;5;28;01mwhile\u001b[39;00m running:\n\u001b[0;32m----> 3\u001b[0m     \u001b[38;5;28;01mfor\u001b[39;00m event \u001b[38;5;129;01min\u001b[39;00m pygame\u001b[38;5;241m.\u001b[39mevent\u001b[38;5;241m.\u001b[39mget():\n\u001b[1;32m      4\u001b[0m         \u001b[38;5;28;01mif\u001b[39;00m event\u001b[38;5;241m.\u001b[39mtype \u001b[38;5;241m==\u001b[39m pygame\u001b[38;5;241m.\u001b[39mQUIT:\n\u001b[1;32m      5\u001b[0m             running \u001b[38;5;241m=\u001b[39m \u001b[38;5;28;01mFalse\u001b[39;00m\n",
      "\u001b[0;31mNameError\u001b[0m: name 'pygame' is not defined"
     ]
    }
   ],
   "source": [
    "running = True\n",
    "while running:\n",
    "    for event in pygame.event.get():\n",
    "        if event.type == pygame.QUIT:\n",
    "            running = False\n",
    "            "
   ]
  },
  {
   "cell_type": "code",
   "execution_count": null,
   "id": "457ec63b",
   "metadata": {},
   "outputs": [],
   "source": []
  },
  {
   "cell_type": "code",
   "execution_count": null,
   "id": "12683ec2",
   "metadata": {},
   "outputs": [],
   "source": []
  }
 ],
 "metadata": {
  "kernelspec": {
   "display_name": "Python 3 (ipykernel)",
   "language": "python",
   "name": "python3"
  },
  "language_info": {
   "codemirror_mode": {
    "name": "ipython",
    "version": 3
   },
   "file_extension": ".py",
   "mimetype": "text/x-python",
   "name": "python",
   "nbconvert_exporter": "python",
   "pygments_lexer": "ipython3",
   "version": "3.11.5"
  }
 },
 "nbformat": 4,
 "nbformat_minor": 5
}
